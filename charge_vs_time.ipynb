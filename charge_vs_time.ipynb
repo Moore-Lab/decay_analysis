{
 "cells": [
  {
   "cell_type": "code",
   "execution_count": 106,
   "metadata": {},
   "outputs": [],
   "source": [
    "import numpy as np\n",
    "import matplotlib.pyplot as plt\n",
    "import glob, importlib\n",
    "from natsort import natsorted\n",
    "import bead_utils as bu\n",
    "import scipy.signal as sp\n",
    "import matplotlib.dates as mdates"
   ]
  },
  {
   "cell_type": "markdown",
   "metadata": {},
   "source": [
    "Script to analyze the changes in charge vs time from Jiaxiang's data"
   ]
  },
  {
   "cell_type": "code",
   "execution_count": 98,
   "metadata": {},
   "outputs": [],
   "source": [
    "data_path = [\"/Users/dcmoore/Library/CloudStorage/GoogleDrive-david.c.moore@yale.edu/My Drive/yale/uspheres/jiaxiang_data/20230803/1/\",]\n",
    "            #\"/Users/dcmoore/Library/CloudStorage/GoogleDrive-david.c.moore@yale.edu/My Drive/yale/uspheres/jiaxiang_data/20230803/2/\"]\n"
   ]
  },
  {
   "cell_type": "code",
   "execution_count": 99,
   "metadata": {},
   "outputs": [
    {
     "name": "stdout",
     "output_type": "stream",
     "text": [
      "working on file 0: /Users/dcmoore/Library/CloudStorage/GoogleDrive-david.c.moore@yale.edu/My Drive/yale/uspheres/jiaxiang_data/20230803/1/LPmbar_xyzcool_0.h5\n",
      "working on file 10: /Users/dcmoore/Library/CloudStorage/GoogleDrive-david.c.moore@yale.edu/My Drive/yale/uspheres/jiaxiang_data/20230803/1/LPmbar_xyzcool_10.h5\n",
      "working on file 20: /Users/dcmoore/Library/CloudStorage/GoogleDrive-david.c.moore@yale.edu/My Drive/yale/uspheres/jiaxiang_data/20230803/1/LPmbar_xyzcool_20.h5\n",
      "working on file 30: /Users/dcmoore/Library/CloudStorage/GoogleDrive-david.c.moore@yale.edu/My Drive/yale/uspheres/jiaxiang_data/20230803/1/LPmbar_xyzcool_30.h5\n",
      "working on file 40: /Users/dcmoore/Library/CloudStorage/GoogleDrive-david.c.moore@yale.edu/My Drive/yale/uspheres/jiaxiang_data/20230803/1/LPmbar_xyzcool_40.h5\n",
      "working on file 50: /Users/dcmoore/Library/CloudStorage/GoogleDrive-david.c.moore@yale.edu/My Drive/yale/uspheres/jiaxiang_data/20230803/1/LPmbar_xyzcool_50.h5\n",
      "working on file 60: /Users/dcmoore/Library/CloudStorage/GoogleDrive-david.c.moore@yale.edu/My Drive/yale/uspheres/jiaxiang_data/20230803/1/LPmbar_xyzcool_60.h5\n",
      "working on file 70: /Users/dcmoore/Library/CloudStorage/GoogleDrive-david.c.moore@yale.edu/My Drive/yale/uspheres/jiaxiang_data/20230803/1/LPmbar_xyzcool_70.h5\n",
      "working on file 80: /Users/dcmoore/Library/CloudStorage/GoogleDrive-david.c.moore@yale.edu/My Drive/yale/uspheres/jiaxiang_data/20230803/1/LPmbar_xyzcool_80.h5\n",
      "working on file 90: /Users/dcmoore/Library/CloudStorage/GoogleDrive-david.c.moore@yale.edu/My Drive/yale/uspheres/jiaxiang_data/20230803/1/LPmbar_xyzcool_90.h5\n",
      "working on file 100: /Users/dcmoore/Library/CloudStorage/GoogleDrive-david.c.moore@yale.edu/My Drive/yale/uspheres/jiaxiang_data/20230803/1/LPmbar_xyzcool_100.h5\n",
      "working on file 110: /Users/dcmoore/Library/CloudStorage/GoogleDrive-david.c.moore@yale.edu/My Drive/yale/uspheres/jiaxiang_data/20230803/1/LPmbar_xyzcool_110.h5\n",
      "working on file 120: /Users/dcmoore/Library/CloudStorage/GoogleDrive-david.c.moore@yale.edu/My Drive/yale/uspheres/jiaxiang_data/20230803/1/LPmbar_xyzcool_120.h5\n",
      "working on file 130: /Users/dcmoore/Library/CloudStorage/GoogleDrive-david.c.moore@yale.edu/My Drive/yale/uspheres/jiaxiang_data/20230803/1/LPmbar_xyzcool_130.h5\n",
      "working on file 140: /Users/dcmoore/Library/CloudStorage/GoogleDrive-david.c.moore@yale.edu/My Drive/yale/uspheres/jiaxiang_data/20230803/1/LPmbar_xyzcool_140.h5\n",
      "working on file 150: /Users/dcmoore/Library/CloudStorage/GoogleDrive-david.c.moore@yale.edu/My Drive/yale/uspheres/jiaxiang_data/20230803/1/LPmbar_xyzcool_150.h5\n",
      "working on file 160: /Users/dcmoore/Library/CloudStorage/GoogleDrive-david.c.moore@yale.edu/My Drive/yale/uspheres/jiaxiang_data/20230803/1/LPmbar_xyzcool_160.h5\n",
      "working on file 170: /Users/dcmoore/Library/CloudStorage/GoogleDrive-david.c.moore@yale.edu/My Drive/yale/uspheres/jiaxiang_data/20230803/1/LPmbar_xyzcool_170.h5\n",
      "working on file 180: /Users/dcmoore/Library/CloudStorage/GoogleDrive-david.c.moore@yale.edu/My Drive/yale/uspheres/jiaxiang_data/20230803/1/LPmbar_xyzcool_180.h5\n",
      "working on file 190: /Users/dcmoore/Library/CloudStorage/GoogleDrive-david.c.moore@yale.edu/My Drive/yale/uspheres/jiaxiang_data/20230803/1/LPmbar_xyzcool_190.h5\n",
      "working on file 200: /Users/dcmoore/Library/CloudStorage/GoogleDrive-david.c.moore@yale.edu/My Drive/yale/uspheres/jiaxiang_data/20230803/1/LPmbar_xyzcool_200.h5\n",
      "working on file 210: /Users/dcmoore/Library/CloudStorage/GoogleDrive-david.c.moore@yale.edu/My Drive/yale/uspheres/jiaxiang_data/20230803/1/LPmbar_xyzcool_210.h5\n",
      "working on file 220: /Users/dcmoore/Library/CloudStorage/GoogleDrive-david.c.moore@yale.edu/My Drive/yale/uspheres/jiaxiang_data/20230803/1/LPmbar_xyzcool_220.h5\n",
      "working on file 230: /Users/dcmoore/Library/CloudStorage/GoogleDrive-david.c.moore@yale.edu/My Drive/yale/uspheres/jiaxiang_data/20230803/1/LPmbar_xyzcool_230.h5\n",
      "working on file 240: /Users/dcmoore/Library/CloudStorage/GoogleDrive-david.c.moore@yale.edu/My Drive/yale/uspheres/jiaxiang_data/20230803/1/LPmbar_xyzcool_240.h5\n",
      "working on file 250: /Users/dcmoore/Library/CloudStorage/GoogleDrive-david.c.moore@yale.edu/My Drive/yale/uspheres/jiaxiang_data/20230803/1/LPmbar_xyzcool_250.h5\n",
      "working on file 260: /Users/dcmoore/Library/CloudStorage/GoogleDrive-david.c.moore@yale.edu/My Drive/yale/uspheres/jiaxiang_data/20230803/1/LPmbar_xyzcool_260.h5\n",
      "working on file 270: /Users/dcmoore/Library/CloudStorage/GoogleDrive-david.c.moore@yale.edu/My Drive/yale/uspheres/jiaxiang_data/20230803/1/LPmbar_xyzcool_270.h5\n",
      "working on file 280: /Users/dcmoore/Library/CloudStorage/GoogleDrive-david.c.moore@yale.edu/My Drive/yale/uspheres/jiaxiang_data/20230803/1/LPmbar_xyzcool_280.h5\n",
      "working on file 290: /Users/dcmoore/Library/CloudStorage/GoogleDrive-david.c.moore@yale.edu/My Drive/yale/uspheres/jiaxiang_data/20230803/1/LPmbar_xyzcool_290.h5\n",
      "working on file 300: /Users/dcmoore/Library/CloudStorage/GoogleDrive-david.c.moore@yale.edu/My Drive/yale/uspheres/jiaxiang_data/20230803/1/LPmbar_xyzcool_300.h5\n",
      "working on file 310: /Users/dcmoore/Library/CloudStorage/GoogleDrive-david.c.moore@yale.edu/My Drive/yale/uspheres/jiaxiang_data/20230803/1/LPmbar_xyzcool_310.h5\n",
      "working on file 320: /Users/dcmoore/Library/CloudStorage/GoogleDrive-david.c.moore@yale.edu/My Drive/yale/uspheres/jiaxiang_data/20230803/1/LPmbar_xyzcool_320.h5\n",
      "working on file 330: /Users/dcmoore/Library/CloudStorage/GoogleDrive-david.c.moore@yale.edu/My Drive/yale/uspheres/jiaxiang_data/20230803/1/LPmbar_xyzcool_330.h5\n",
      "working on file 340: /Users/dcmoore/Library/CloudStorage/GoogleDrive-david.c.moore@yale.edu/My Drive/yale/uspheres/jiaxiang_data/20230803/1/LPmbar_xyzcool_340.h5\n",
      "working on file 350: /Users/dcmoore/Library/CloudStorage/GoogleDrive-david.c.moore@yale.edu/My Drive/yale/uspheres/jiaxiang_data/20230803/1/LPmbar_xyzcool_350.h5\n",
      "working on file 360: /Users/dcmoore/Library/CloudStorage/GoogleDrive-david.c.moore@yale.edu/My Drive/yale/uspheres/jiaxiang_data/20230803/1/LPmbar_xyzcool_360.h5\n",
      "working on file 370: /Users/dcmoore/Library/CloudStorage/GoogleDrive-david.c.moore@yale.edu/My Drive/yale/uspheres/jiaxiang_data/20230803/1/LPmbar_xyzcool_370.h5\n",
      "working on file 380: /Users/dcmoore/Library/CloudStorage/GoogleDrive-david.c.moore@yale.edu/My Drive/yale/uspheres/jiaxiang_data/20230803/1/LPmbar_xyzcool_380.h5\n",
      "working on file 390: /Users/dcmoore/Library/CloudStorage/GoogleDrive-david.c.moore@yale.edu/My Drive/yale/uspheres/jiaxiang_data/20230803/1/LPmbar_xyzcool_390.h5\n",
      "working on file 400: /Users/dcmoore/Library/CloudStorage/GoogleDrive-david.c.moore@yale.edu/My Drive/yale/uspheres/jiaxiang_data/20230803/1/LPmbar_xyzcool_400.h5\n",
      "working on file 410: /Users/dcmoore/Library/CloudStorage/GoogleDrive-david.c.moore@yale.edu/My Drive/yale/uspheres/jiaxiang_data/20230803/1/LPmbar_xyzcool_410.h5\n",
      "working on file 420: /Users/dcmoore/Library/CloudStorage/GoogleDrive-david.c.moore@yale.edu/My Drive/yale/uspheres/jiaxiang_data/20230803/1/LPmbar_xyzcool_420.h5\n"
     ]
    }
   ],
   "source": [
    "importlib.reload(bu)\n",
    "flist = []\n",
    "for d in data_path:\n",
    "    flist += natsorted(glob.glob(d + \"*.h5\"))\n",
    "\n",
    "## first make a correlation template\n",
    "cdat, attr, _ = bu.get_data(flist[0])\n",
    "template = bu.correlation_template(cdat, attr, make_plots=False)\n",
    "\n",
    "charge_vec = []\n",
    "\n",
    "for i,f in enumerate(flist):\n",
    "\n",
    "    if(i%10 == 0): print(\"working on file %d: %s\"%(i, f))\n",
    "    \n",
    "    cdat, attr, _ = bu.get_data(f)\n",
    "\n",
    "    #bu.plot_raw_data(cdat, attr, nfft=2**19, do_psd=True, do_filt=True)\n",
    "    \n",
    "    fname = \"corr_%d.png\"%i\n",
    "    corr_val = bu.plot_correlation_with_drive(cdat, template, attr, skip_drive=True)\n",
    "\n",
    "    time = attr[\"Time\"]\n",
    "\n",
    "    charge_vec.append([time, corr_val])\n",
    "\n",
    "np.save(\"charge_steps.npy\", charge_vec)"
   ]
  },
  {
   "cell_type": "code",
   "execution_count": 110,
   "metadata": {},
   "outputs": [
    {
     "data": {
      "image/png": "[encoded data removed]",
      "text/plain": [
       "<Figure size 576x432 with 1 Axes>"
      ]
     },
     "metadata": {
      "needs_background": "light"
     },
     "output_type": "display_data"
    }
   ],
   "source": [
    "charge_vec = np.load(\"charge_steps.npy\")\n",
    "\n",
    "cal_fac = 1e4 ## wild guess\n",
    "\n",
    "dt = []\n",
    "for j,t in enumerate(charge_vec[:,0]):\n",
    "    dt.append(bu.labview_time_to_datetime(t))\n",
    "\n",
    "plt.figure(figsize=(8,6))\n",
    "plt.plot_date(dt, charge_vec[:,1], 'k-')\n",
    "plt.gca().xaxis.set_major_formatter(mdates.DateFormatter('%H:%M'))\n",
    "plt.xlabel(\"Time (hours)\")\n",
    "plt.ylabel(\"Charge [e]\")\n",
    "plt.grid(True)\n",
    "plt.ylim(0,10)\n",
    "plt.show()"
   ]
  },
  {
   "cell_type": "code",
   "execution_count": null,
   "metadata": {},
   "outputs": [],
   "source": []
  },
  {
   "cell_type": "code",
   "execution_count": null,
   "metadata": {},
   "outputs": [],
   "source": []
  }
 ],
 "metadata": {
  "kernelspec": {
   "display_name": "Python 3",
   "language": "python",
   "name": "python3"
  },
  "language_info": {
   "codemirror_mode": {
    "name": "ipython",
    "version": 3
   },
   "file_extension": ".py",
   "mimetype": "text/x-python",
   "name": "python",
   "nbconvert_exporter": "python",
   "pygments_lexer": "ipython3",
   "version": "3.9.10"
  },
  "orig_nbformat": 4
 },
 "nbformat": 4,
 "nbformat_minor": 2
}
