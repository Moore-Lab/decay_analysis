{
 "cells": [
  {
   "cell_type": "code",
   "execution_count": 7,
   "metadata": {},
   "outputs": [],
   "source": [
    "import numpy as np\n",
    "import matplotlib.pyplot as plt\n",
    "import glob, importlib\n",
    "from natsort import natsorted\n",
    "import bead_utils as bu\n",
    "import scipy.signal as sp"
   ]
  },
  {
   "cell_type": "markdown",
   "metadata": {},
   "source": [
    "Script to analyze the changes in charge vs time from Jiaxiang's data"
   ]
  },
  {
   "cell_type": "code",
   "execution_count": 8,
   "metadata": {},
   "outputs": [],
   "source": [
    "data_path = \"/Users/dcmoore/Library/CloudStorage/GoogleDrive-david.c.moore@yale.edu/My Drive/yale/uspheres/jiaxiang_data/20230803/1/\""
   ]
  },
  {
   "cell_type": "code",
   "execution_count": 87,
   "metadata": {},
   "outputs": [
    {
     "name": "stdout",
     "output_type": "stream",
     "text": [
      "working on file 0: /Users/dcmoore/Library/CloudStorage/GoogleDrive-david.c.moore@yale.edu/My Drive/yale/uspheres/jiaxiang_data/20230803/1/LPmbar_xyzcool_0.h5\n"
     ]
    },
    {
     "ename": "TypeError",
     "evalue": "list.append() takes exactly one argument (2 given)",
     "output_type": "error",
     "traceback": [
      "\u001b[0;31m---------------------------------------------------------------------------\u001b[0m",
      "\u001b[0;31mTypeError\u001b[0m                                 Traceback (most recent call last)",
      "\u001b[1;32m/Users/dcmoore/Library/CloudStorage/GoogleDrive-david.c.moore@yale.edu/My Drive/yale/uspheres/decay_analysis/charge_vs_time.ipynb Cell 4\u001b[0m in \u001b[0;36m<cell line: 10>\u001b[0;34m()\u001b[0m\n\u001b[1;32m     <a href='vscode-notebook-cell:/Users/dcmoore/Library/CloudStorage/GoogleDrive-david.c.moore%40yale.edu/My%20Drive/yale/uspheres/decay_analysis/charge_vs_time.ipynb#W3sZmlsZQ%3D%3D?line=18'>19</a>\u001b[0m     corr_val \u001b[39m=\u001b[39m bu\u001b[39m.\u001b[39mplot_correlation_with_drive(cdat, template, attr, skip_drive\u001b[39m=\u001b[39m\u001b[39mTrue\u001b[39;00m)\n\u001b[1;32m     <a href='vscode-notebook-cell:/Users/dcmoore/Library/CloudStorage/GoogleDrive-david.c.moore%40yale.edu/My%20Drive/yale/uspheres/decay_analysis/charge_vs_time.ipynb#W3sZmlsZQ%3D%3D?line=20'>21</a>\u001b[0m     time \u001b[39m=\u001b[39m attr[\u001b[39m\"\u001b[39m\u001b[39mTime\u001b[39m\u001b[39m\"\u001b[39m]\n\u001b[0;32m---> <a href='vscode-notebook-cell:/Users/dcmoore/Library/CloudStorage/GoogleDrive-david.c.moore%40yale.edu/My%20Drive/yale/uspheres/decay_analysis/charge_vs_time.ipynb#W3sZmlsZQ%3D%3D?line=22'>23</a>\u001b[0m     charge_vec\u001b[39m.\u001b[39;49mappend(time, corr_val)\n\u001b[1;32m     <a href='vscode-notebook-cell:/Users/dcmoore/Library/CloudStorage/GoogleDrive-david.c.moore%40yale.edu/My%20Drive/yale/uspheres/decay_analysis/charge_vs_time.ipynb#W3sZmlsZQ%3D%3D?line=24'>25</a>\u001b[0m np\u001b[39m.\u001b[39msave(\u001b[39m\"\u001b[39m\u001b[39mcharge_steps.npy\u001b[39m\u001b[39m\"\u001b[39m, charge_vec)\n\u001b[1;32m     <a href='vscode-notebook-cell:/Users/dcmoore/Library/CloudStorage/GoogleDrive-david.c.moore%40yale.edu/My%20Drive/yale/uspheres/decay_analysis/charge_vs_time.ipynb#W3sZmlsZQ%3D%3D?line=26'>27</a>\u001b[0m plt\u001b[39m.\u001b[39mfigure()\n",
      "\u001b[0;31mTypeError\u001b[0m: list.append() takes exactly one argument (2 given)"
     ]
    }
   ],
   "source": [
    "importlib.reload(bu)\n",
    "flist = natsorted(glob.glob(data_path + \"*.h5\"))\n",
    "\n",
    "## first make a correlation template\n",
    "cdat, attr, _ = bu.get_data(flist[0])\n",
    "template = bu.correlation_template(cdat, attr, make_plots=False)\n",
    "\n",
    "charge_vec = []\n",
    "\n",
    "for i,f in enumerate(flist):\n",
    "\n",
    "    if(i%10 == 0): print(\"working on file %d: %s\"%(i, f))\n",
    "    \n",
    "    cdat, attr, _ = bu.get_data(f)\n",
    "\n",
    "    #bu.plot_raw_data(cdat, attr, nfft=2**19, do_psd=True, do_filt=True)\n",
    "    \n",
    "    fname = \"corr_%d.png\"%i\n",
    "    corr_val = bu.plot_correlation_with_drive(cdat, template, attr, skip_drive=True)\n",
    "\n",
    "    time = attr[\"Time\"]\n",
    "\n",
    "    charge_vec.append([time, corr_val])\n",
    "\n",
    "np.save(\"charge_steps.npy\", charge_vec)\n",
    "\n",
    "charge_vec = np.array(charge_vec)\n",
    "\n",
    "plt.figure()\n",
    "plt.plot(charge_vec[:,0], charge_vec[:,1])\n",
    "plt.show()"
   ]
  },
  {
   "cell_type": "code",
   "execution_count": 7,
   "metadata": {},
   "outputs": [
    {
     "data": {
      "text/plain": [
       "10000.0"
      ]
     },
     "execution_count": 7,
     "metadata": {},
     "output_type": "execute_result"
    }
   ],
   "source": [
    "attr[\"Fsamp\"]"
   ]
  },
  {
   "cell_type": "code",
   "execution_count": null,
   "metadata": {},
   "outputs": [],
   "source": []
  },
  {
   "cell_type": "code",
   "execution_count": null,
   "metadata": {},
   "outputs": [],
   "source": []
  }
 ],
 "metadata": {
  "kernelspec": {
   "display_name": "Python 3",
   "language": "python",
   "name": "python3"
  },
  "language_info": {
   "codemirror_mode": {
    "name": "ipython",
    "version": 3
   },
   "file_extension": ".py",
   "mimetype": "text/x-python",
   "name": "python",
   "nbconvert_exporter": "python",
   "pygments_lexer": "ipython3",
   "version": "3.9.10"
  },
  "orig_nbformat": 4
 },
 "nbformat": 4,
 "nbformat_minor": 2
}
